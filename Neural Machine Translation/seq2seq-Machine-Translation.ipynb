{
 "cells": [
  {
   "cell_type": "code",
   "execution_count": 1,
   "metadata": {},
   "outputs": [],
   "source": [
    "import torch\n",
    "import spacy\n",
    "import random\n",
    "import numpy as np\n",
    "\n",
    "import torch.nn as nn\n",
    "import torch.optim as optim\n",
    "\n",
    "from tqdm.notebook import tqdm\n",
    "from torchtext.datasets import Multi30k\n",
    "from torchtext.data import Field,BucketIterator\n",
    "from torch.utils.tensorboard import SummaryWriter\n",
    "from helper import translate_sentence,bleu,save_checkpoint,load_checkpoint"
   ]
  },
  {
   "cell_type": "code",
   "execution_count": null,
   "metadata": {},
   "outputs": [],
   "source": []
  },
  {
   "cell_type": "code",
   "execution_count": null,
   "metadata": {},
   "outputs": [],
   "source": []
  },
  {
   "cell_type": "code",
   "execution_count": 2,
   "metadata": {},
   "outputs": [
    {
     "name": "stdout",
     "output_type": "stream",
     "text": [
      "Current Device: cuda:0\n",
      "NVIDIA GeForce RTX 2060\n",
      "Total GPU Memory 6442450944 B , Cached GPU Memory 0 B, Allocated GPU Memory 0 B\n"
     ]
    }
   ],
   "source": [
    "def get_gpu_details():\n",
    "    t = torch.cuda.get_device_properties(0).total_memory\n",
    "    c = torch.cuda.memory_cached(0)\n",
    "    a = torch.cuda.memory_allocated(0)\n",
    "    print(torch.cuda.get_device_name())\n",
    "    print(f'Total GPU Memory {t} B , Cached GPU Memory {c} B, Allocated GPU Memory {a} B')\n",
    "    \n",
    "    \n",
    "    \n",
    "if torch.cuda.is_available():\n",
    "    device='cuda:0'\n",
    "else:\n",
    "    device='cpu'\n",
    "print(f'Current Device: {device}')\n",
    "if device=='cuda:0':\n",
    "    torch.cuda.empty_cache()\n",
    "    get_gpu_details()"
   ]
  },
  {
   "cell_type": "code",
   "execution_count": 3,
   "metadata": {},
   "outputs": [],
   "source": [
    "spacy_german = spacy.load('de_core_news_sm')\n",
    "spacy_english = spacy.load('en')"
   ]
  },
  {
   "cell_type": "code",
   "execution_count": 4,
   "metadata": {},
   "outputs": [],
   "source": [
    "def german_tokenizer(sentence):\n",
    "        return [token.text for token in spacy_german.tokenizer(sentence)]\n",
    "    \n",
    "def english_tokenizer(sentence):\n",
    "    return [token.text for token in spacy_english.tokenizer(sentence)]"
   ]
  },
  {
   "cell_type": "code",
   "execution_count": 5,
   "metadata": {},
   "outputs": [],
   "source": [
    "german = Field(tokenize = german_tokenizer,lower = True,init_token = '<sos>',eos_token = '<eos>')\n",
    "\n",
    "english = Field(tokenize = english_tokenizer,lower = True,init_token = '<sos>',eos_token = '<eos>')\n"
   ]
  },
  {
   "cell_type": "code",
   "execution_count": 6,
   "metadata": {},
   "outputs": [],
   "source": [
    "train_data , val_data , test_data = Multi30k.splits(exts = ('.de','.en'),\n",
    "                                                   fields = (german,english))\n",
    "\n",
    "\n",
    "german.build_vocab(train_data,max_size = 10000,min_freq = 2)\n",
    "english.build_vocab(train_data,max_size = 10000,min_freq = 2)"
   ]
  },
  {
   "cell_type": "code",
   "execution_count": 7,
   "metadata": {},
   "outputs": [],
   "source": [
    "class Encoder(nn.Module):\n",
    "    def __init__(self,size_of_vocab1, embedding_size, hidden_size ,num_layers, dropout_rate):\n",
    "        \n",
    "        super(Encoder,self).__init__()\n",
    "        \n",
    "        self.hidden_size = hidden_size\n",
    "        self.num_layers = num_layers\n",
    "        \n",
    "        self.embedding = nn.Embedding(size_of_vocab1 , embedding_size)\n",
    "        self.dropout = nn.Dropout(dropout_rate)\n",
    "        \n",
    "        self.encoderRNN = nn.LSTM(embedding_size, hidden_size, num_layers , dropout = dropout_rate)\n",
    "        \n",
    "    def forward(self, sentence):\n",
    "        #sentence shape = (sequence_length , batch_size)\n",
    "        \n",
    "        embedding = self.embedding(sentence)\n",
    "        #for each word in the seq there's a mapping to a embedding dim space (seq_len, batch_size,embed_dim)\n",
    "        \n",
    "        embedding = self.dropout(embedding)\n",
    "        \n",
    "        outputs, (hidden_state,cell_state ) = self.encoderRNN(embedding)\n",
    "        \n",
    "        return hidden_state,cell_state\n",
    "        "
   ]
  },
  {
   "cell_type": "code",
   "execution_count": 8,
   "metadata": {},
   "outputs": [],
   "source": [
    "class Decoder(nn.Module):\n",
    "    def __init__(self,size_of_vocab2,embedding_size,hidden_size,num_layers, dropout_rate):\n",
    "        \n",
    "        super(Decoder,self).__init__()\n",
    "        \n",
    "        \n",
    "        self.hidden_size = hidden_size\n",
    "        self.num_layers = num_layers\n",
    "        \n",
    "        self.dropout = nn.Dropout(dropout_rate)\n",
    "        self.embedding = nn.Embedding(size_of_vocab2, embedding_size)\n",
    "        \n",
    "        self.decoderRNN = nn.LSTM(embedding_size,hidden_size,num_layers,dropout = dropout_rate)\n",
    "        \n",
    "        self.fully_connected = nn.Linear(hidden_size,size_of_vocab2)\n",
    "        \n",
    "        \n",
    "    \n",
    "    def forward(self,inp, hidden_state, cell_state):\n",
    "        \n",
    "        #shape of inp is batch_size, we want 1,batch_size so unsqueeze to add one dimension\n",
    "        \n",
    "        inp = inp.unsqueeze(0)\n",
    "        \n",
    "        embedding = self.embedding(inp)\n",
    "        embedding  = self.dropout(embedding)\n",
    "        \n",
    "        outputs, (hidden_state,cell_state) = self.decoderRNN(embedding ,(hidden_state,cell_state))\n",
    "        #shape : 1,batch_size,hidden_size\n",
    "        #hidden_state and cell_state will be used for next word prediction in the sequence\n",
    "        \n",
    "        predictions = self.fully_connected(outputs)\n",
    "        #predictions shape is (1,batch_size,length_of_vocab) so squeeze again\n",
    "        \n",
    "        predictions = predictions.squeeze(0)\n",
    "        \n",
    "        return predictions,hidden_state,cell_state"
   ]
  },
  {
   "cell_type": "code",
   "execution_count": 9,
   "metadata": {},
   "outputs": [],
   "source": [
    "class seq2seq(nn.Module):\n",
    "    def __init__(self,encoder,decoder):\n",
    "            super(seq2seq,self).__init__()\n",
    "            self.encoder_block = encoder\n",
    "            self.decoder_block = decoder\n",
    "            \n",
    "    def forward(self,source,target, teaching_force_ratio = 0.5):\n",
    "        #teaching_force_ratio helps in sometimes using the actual word as next inp and sometimes\n",
    "        #the predicted word as the next input\n",
    "        \n",
    "        #source = (target_len,batch_size)\n",
    "        batch_size = source.shape[1]\n",
    "        \n",
    "        target_len = target.shape[0]\n",
    "                \n",
    "        target_vocab_size = len(english.vocab)\n",
    "        \n",
    "        outputs = torch.zeros(target_len,batch_size,target_vocab_size).to(device)\n",
    "        \n",
    "        encoder_hidden , encoder_cell = self.encoder_block(source)\n",
    "        \n",
    "        #get start token\n",
    "        next_inp = target[0]\n",
    "        \n",
    "        for idx in range(1,target_len):\n",
    "            \n",
    "            output,encoder_hidden,encoder_cell = self.decoder_block(next_inp,\n",
    "                                                                    encoder_hidden,encoder_cell)\n",
    "            outputs[idx] = output\n",
    "            \n",
    "            best_guess = output.argmax(1)\n",
    "            \n",
    "            next_inp = target[idx] if random.random() < teaching_force_ratio else best_guess\n",
    "            \n",
    "        return outputs"
   ]
  },
  {
   "cell_type": "code",
   "execution_count": 10,
   "metadata": {},
   "outputs": [],
   "source": [
    "num_epochs = 25\n",
    "learning_rate = 1e-3\n",
    "batch_size = 64"
   ]
  },
  {
   "cell_type": "code",
   "execution_count": 11,
   "metadata": {},
   "outputs": [],
   "source": [
    "load_model = False\n",
    "\n",
    "encoder_inp_size = len(german.vocab)\n",
    "decoder_inp_size = len(english.vocab)\n",
    "\n",
    "output_size = len(english.vocab)\n",
    "\n",
    "encoder_embedding_dim = 300\n",
    "decoder_embedding_dim = 300\n",
    "\n",
    "hidden_size = 1024\n",
    "num_layers = 4\n",
    "encoder_dropout = 0.5\n",
    "decoder_dropout = 0.5\n",
    "\n",
    "writer = SummaryWriter(f'runs/loss_plot')\n",
    "step = 0 "
   ]
  },
  {
   "cell_type": "code",
   "execution_count": 12,
   "metadata": {},
   "outputs": [],
   "source": [
    "train_iterator, val_iterator, test_iterator = BucketIterator.splits((train_data,val_data,test_data),\n",
    "                                                                   batch_size = batch_size,\n",
    "                                                                  sort_within_batch = True,\n",
    "                                                                  sort_key = lambda x : len(x.src),\n",
    "                                                                  device = device)"
   ]
  },
  {
   "cell_type": "code",
   "execution_count": 13,
   "metadata": {},
   "outputs": [],
   "source": [
    "encoderNN = Encoder(encoder_inp_size,encoder_embedding_dim,hidden_size,num_layers,encoder_dropout).to(device)"
   ]
  },
  {
   "cell_type": "code",
   "execution_count": 14,
   "metadata": {},
   "outputs": [],
   "source": [
    "decoderNN = Decoder(decoder_inp_size,decoder_embedding_dim,hidden_size,num_layers,decoder_dropout).to(device)"
   ]
  },
  {
   "cell_type": "code",
   "execution_count": 15,
   "metadata": {},
   "outputs": [],
   "source": [
    "seq2seqModel = seq2seq(encoderNN,decoderNN).to(device)"
   ]
  },
  {
   "cell_type": "code",
   "execution_count": 16,
   "metadata": {},
   "outputs": [],
   "source": [
    "optimizer = optim.Adam(seq2seqModel.parameters(),lr = learning_rate)"
   ]
  },
  {
   "cell_type": "code",
   "execution_count": 17,
   "metadata": {
    "scrolled": false
   },
   "outputs": [
    {
     "data": {
      "application/vnd.jupyter.widget-view+json": {
       "model_id": "a5baa4caf09e41008d7ad062d04681bd",
       "version_major": 2,
       "version_minor": 0
      },
      "text/plain": [
       "HBox(children=(FloatProgress(value=0.0, max=25.0), HTML(value='')))"
      ]
     },
     "metadata": {},
     "output_type": "display_data"
    },
    {
     "name": "stdout",
     "output_type": "stream",
     "text": [
      "=> Saving checkpoint\n",
      "Translated example sentence ['gay', 'gay', 'gay', 'england', 'england', 'england', 'england', 'england', 'england', 'england', 'england', 'sleeve', 'sleeve', 'sleeve', 'sleeve', 'sleeve', 'sleeve', 'paraphernalia', 'paraphernalia', 'paraphernalia', 'paraphernalia', 'england', 'england', 'england', 'england', 'england', 'england', 'england', 'england', 'sleeve', 'sleeve', 'sleeve', 'sleeve', 'sleeve', 'sleeve', 'paraphernalia', 'paraphernalia', 'paraphernalia', 'paraphernalia', 'england', 'england', 'england', 'england', 'england', 'england', 'england', 'england', 'sleeve', 'sleeve', 'sleeve']\n",
      "Real Translation ['a', 'boat', 'with', 'several', 'men', 'on', 'it', 'is', 'pulled', 'ashore', 'by', 'a', 'large', 'team', 'of', 'horses.']\n"
     ]
    },
    {
     "data": {
      "application/vnd.jupyter.widget-view+json": {
       "model_id": "4bda68d5e60048408079947ab8bd1c3a",
       "version_major": 2,
       "version_minor": 0
      },
      "text/plain": [
       "HBox(children=(FloatProgress(value=1.0, bar_style='info', max=1.0), HTML(value='')))"
      ]
     },
     "metadata": {},
     "output_type": "display_data"
    },
    {
     "name": "stdout",
     "output_type": "stream",
     "text": [
      "\n",
      "4.191579341888428\n",
      "=> Saving checkpoint\n",
      "Translated example sentence ['a', 'man', 'in', 'a', 'blue', 'shirt', 'and', 'a', 'a', 'a', 'a', 'a', '.', '<eos>']\n",
      "Real Translation ['a', 'boat', 'with', 'several', 'men', 'on', 'it', 'is', 'pulled', 'ashore', 'by', 'a', 'large', 'team', 'of', 'horses.']\n"
     ]
    },
    {
     "data": {
      "application/vnd.jupyter.widget-view+json": {
       "model_id": "ad3261ffacd34d369f3f878e5699e8ed",
       "version_major": 2,
       "version_minor": 0
      },
      "text/plain": [
       "HBox(children=(FloatProgress(value=1.0, bar_style='info', max=1.0), HTML(value='')))"
      ]
     },
     "metadata": {},
     "output_type": "display_data"
    },
    {
     "name": "stdout",
     "output_type": "stream",
     "text": [
      "\n",
      "=> Saving checkpoint\n",
      "Translated example sentence ['a', 'dog', 'is', 'a', 'a', 'a', 'a', 'a', 'a', 'a', 'a', 'a', '.', '<eos>']\n",
      "Real Translation ['a', 'boat', 'with', 'several', 'men', 'on', 'it', 'is', 'pulled', 'ashore', 'by', 'a', 'large', 'team', 'of', 'horses.']\n"
     ]
    },
    {
     "data": {
      "application/vnd.jupyter.widget-view+json": {
       "model_id": "03caa80056d64e6f9ee98a187a8c868d",
       "version_major": 2,
       "version_minor": 0
      },
      "text/plain": [
       "HBox(children=(FloatProgress(value=1.0, bar_style='info', max=1.0), HTML(value='')))"
      ]
     },
     "metadata": {},
     "output_type": "display_data"
    },
    {
     "name": "stdout",
     "output_type": "stream",
     "text": [
      "\n",
      "4.07141637802124\n",
      "=> Saving checkpoint\n",
      "Translated example sentence ['a', 'couple', 'player', 'is', 'a', 'a', 'a', 'a', 'a', 'a', 'a', 'a', 'a', '.', '.', '<eos>']\n",
      "Real Translation ['a', 'boat', 'with', 'several', 'men', 'on', 'it', 'is', 'pulled', 'ashore', 'by', 'a', 'large', 'team', 'of', 'horses.']\n"
     ]
    },
    {
     "data": {
      "application/vnd.jupyter.widget-view+json": {
       "model_id": "df86e5fcaad2412abaa77b84ab2bd95a",
       "version_major": 2,
       "version_minor": 0
      },
      "text/plain": [
       "HBox(children=(FloatProgress(value=1.0, bar_style='info', max=1.0), HTML(value='')))"
      ]
     },
     "metadata": {},
     "output_type": "display_data"
    },
    {
     "name": "stdout",
     "output_type": "stream",
     "text": [
      "\n",
      "=> Saving checkpoint\n",
      "Translated example sentence ['a', '<unk>', 'player', 'is', 'a', 'a', 'a', 'a', 'a', 'a', 'a', '.', '<eos>']\n",
      "Real Translation ['a', 'boat', 'with', 'several', 'men', 'on', 'it', 'is', 'pulled', 'ashore', 'by', 'a', 'large', 'team', 'of', 'horses.']\n"
     ]
    },
    {
     "data": {
      "application/vnd.jupyter.widget-view+json": {
       "model_id": "d7372fe762684bd18173287f8dd3bed4",
       "version_major": 2,
       "version_minor": 0
      },
      "text/plain": [
       "HBox(children=(FloatProgress(value=1.0, bar_style='info', max=1.0), HTML(value='')))"
      ]
     },
     "metadata": {},
     "output_type": "display_data"
    },
    {
     "name": "stdout",
     "output_type": "stream",
     "text": [
      "\n",
      "4.592329025268555\n",
      "=> Saving checkpoint\n",
      "Translated example sentence ['a', 'soccer', 'player', 'is', 'a', 'a', 'a', 'a', 'a', 'a', 'a', 'a', '.', '<eos>']\n",
      "Real Translation ['a', 'boat', 'with', 'several', 'men', 'on', 'it', 'is', 'pulled', 'ashore', 'by', 'a', 'large', 'team', 'of', 'horses.']\n"
     ]
    },
    {
     "data": {
      "application/vnd.jupyter.widget-view+json": {
       "model_id": "692be6dc471346549aa3a67d6a229046",
       "version_major": 2,
       "version_minor": 0
      },
      "text/plain": [
       "HBox(children=(FloatProgress(value=1.0, bar_style='info', max=1.0), HTML(value='')))"
      ]
     },
     "metadata": {},
     "output_type": "display_data"
    },
    {
     "name": "stdout",
     "output_type": "stream",
     "text": [
      "\n",
      "=> Saving checkpoint\n",
      "Translated example sentence ['a', 'baseball', 'player', 'is', 'a', 'a', 'the', 'ball', 'of', 'the', 'ball', '.', '<eos>']\n",
      "Real Translation ['a', 'boat', 'with', 'several', 'men', 'on', 'it', 'is', 'pulled', 'ashore', 'by', 'a', 'large', 'team', 'of', 'horses.']\n"
     ]
    },
    {
     "data": {
      "application/vnd.jupyter.widget-view+json": {
       "model_id": "0d47d6a1a7df40e5a8a48d6ba7508350",
       "version_major": 2,
       "version_minor": 0
      },
      "text/plain": [
       "HBox(children=(FloatProgress(value=1.0, bar_style='info', max=1.0), HTML(value='')))"
      ]
     },
     "metadata": {},
     "output_type": "display_data"
    },
    {
     "name": "stdout",
     "output_type": "stream",
     "text": [
      "\n",
      "4.1398162841796875\n",
      "=> Saving checkpoint\n",
      "Translated example sentence ['a', 'football', 'player', 'in', 'a', 'the', 'air', 'to', 'the', 'the', 'ball', '.', '<eos>']\n",
      "Real Translation ['a', 'boat', 'with', 'several', 'men', 'on', 'it', 'is', 'pulled', 'ashore', 'by', 'a', 'large', 'team', 'of', 'horses.']\n"
     ]
    },
    {
     "data": {
      "application/vnd.jupyter.widget-view+json": {
       "model_id": "8a788c50215544349596261e15c1356b",
       "version_major": 2,
       "version_minor": 0
      },
      "text/plain": [
       "HBox(children=(FloatProgress(value=1.0, bar_style='info', max=1.0), HTML(value='')))"
      ]
     },
     "metadata": {},
     "output_type": "display_data"
    },
    {
     "name": "stdout",
     "output_type": "stream",
     "text": [
      "\n",
      "=> Saving checkpoint\n",
      "Translated example sentence ['a', 'soccer', 'player', 'in', 'a', 'white', 'uniform', 'is', 'the', 'ball', 'to', 'the', 'a', '.', '.', '<eos>']\n",
      "Real Translation ['a', 'boat', 'with', 'several', 'men', 'on', 'it', 'is', 'pulled', 'ashore', 'by', 'a', 'large', 'team', 'of', 'horses.']\n"
     ]
    },
    {
     "data": {
      "application/vnd.jupyter.widget-view+json": {
       "model_id": "76f38c4f967a42ce870462c6856817c9",
       "version_major": 2,
       "version_minor": 0
      },
      "text/plain": [
       "HBox(children=(FloatProgress(value=1.0, bar_style='info', max=1.0), HTML(value='')))"
      ]
     },
     "metadata": {},
     "output_type": "display_data"
    },
    {
     "name": "stdout",
     "output_type": "stream",
     "text": [
      "\n",
      "3.622882604598999\n",
      "=> Saving checkpoint\n",
      "Translated example sentence ['a', 'football', 'player', 'in', 'a', 'the', 'air', 'is', 'a', 'the', 'the', 'the', 'the', '.', '<eos>']\n",
      "Real Translation ['a', 'boat', 'with', 'several', 'men', 'on', 'it', 'is', 'pulled', 'ashore', 'by', 'a', 'large', 'team', 'of', 'horses.']\n"
     ]
    },
    {
     "data": {
      "application/vnd.jupyter.widget-view+json": {
       "model_id": "948852f3bcdb42e2a7a7589688d7dc92",
       "version_major": 2,
       "version_minor": 0
      },
      "text/plain": [
       "HBox(children=(FloatProgress(value=1.0, bar_style='info', max=1.0), HTML(value='')))"
      ]
     },
     "metadata": {},
     "output_type": "display_data"
    },
    {
     "name": "stdout",
     "output_type": "stream",
     "text": [
      "\n",
      "=> Saving checkpoint\n",
      "Translated example sentence ['a', 'soccer', 'player', 'in', 'a', 'red', 'uniform', 'is', 'to', 'the', 'the', 'ball', '.', '<eos>']\n",
      "Real Translation ['a', 'boat', 'with', 'several', 'men', 'on', 'it', 'is', 'pulled', 'ashore', 'by', 'a', 'large', 'team', 'of', 'horses.']\n"
     ]
    },
    {
     "data": {
      "application/vnd.jupyter.widget-view+json": {
       "model_id": "3c3762b77c214ba287e40f7431050438",
       "version_major": 2,
       "version_minor": 0
      },
      "text/plain": [
       "HBox(children=(FloatProgress(value=1.0, bar_style='info', max=1.0), HTML(value='')))"
      ]
     },
     "metadata": {},
     "output_type": "display_data"
    },
    {
     "name": "stdout",
     "output_type": "stream",
     "text": [
      "\n",
      "3.5350520610809326\n",
      "=> Saving checkpoint\n",
      "Translated example sentence ['a', 'soccer', 'player', 'is', 'to', 'hit', 'the', 'ball', 'while', 'the', 'opponent', '.', '<eos>']\n",
      "Real Translation ['a', 'boat', 'with', 'several', 'men', 'on', 'it', 'is', 'pulled', 'ashore', 'by', 'a', 'large', 'team', 'of', 'horses.']\n"
     ]
    },
    {
     "data": {
      "application/vnd.jupyter.widget-view+json": {
       "model_id": "5591ef7389334e3da9c0ffa4be14c352",
       "version_major": 2,
       "version_minor": 0
      },
      "text/plain": [
       "HBox(children=(FloatProgress(value=1.0, bar_style='info', max=1.0), HTML(value='')))"
      ]
     },
     "metadata": {},
     "output_type": "display_data"
    },
    {
     "name": "stdout",
     "output_type": "stream",
     "text": [
      "\n",
      "=> Saving checkpoint\n",
      "Translated example sentence ['a', 'baseball', 'player', 'is', 'a', 'a', 'the', 'ball', 'while', 'the', 'goalie', '.', '<eos>']\n",
      "Real Translation ['a', 'boat', 'with', 'several', 'men', 'on', 'it', 'is', 'pulled', 'ashore', 'by', 'a', 'large', 'team', 'of', 'horses.']\n"
     ]
    },
    {
     "data": {
      "application/vnd.jupyter.widget-view+json": {
       "model_id": "f4555fb405b7439aadf596694d8a2599",
       "version_major": 2,
       "version_minor": 0
      },
      "text/plain": [
       "HBox(children=(FloatProgress(value=1.0, bar_style='info', max=1.0), HTML(value='')))"
      ]
     },
     "metadata": {},
     "output_type": "display_data"
    },
    {
     "name": "stdout",
     "output_type": "stream",
     "text": [
      "\n",
      "2.8983750343322754\n",
      "=> Saving checkpoint\n",
      "Translated example sentence ['a', 'street', 'of', 'with', 'a', 'people', 'in', 'the', 'the', 'the', 'the', '.', '<eos>']\n",
      "Real Translation ['a', 'boat', 'with', 'several', 'men', 'on', 'it', 'is', 'pulled', 'ashore', 'by', 'a', 'large', 'team', 'of', 'horses.']\n"
     ]
    },
    {
     "data": {
      "application/vnd.jupyter.widget-view+json": {
       "model_id": "267c06c9577b45daa1fee1ea3f605cf7",
       "version_major": 2,
       "version_minor": 0
      },
      "text/plain": [
       "HBox(children=(FloatProgress(value=1.0, bar_style='info', max=1.0), HTML(value='')))"
      ]
     },
     "metadata": {},
     "output_type": "display_data"
    },
    {
     "name": "stdout",
     "output_type": "stream",
     "text": [
      "\n",
      "=> Saving checkpoint\n",
      "Translated example sentence ['a', 'bird', 'with', 'with', 'a', 'number', 'is', 'to', 'the', 'the', 'a', 'in', '.', '<eos>']\n",
      "Real Translation ['a', 'boat', 'with', 'several', 'men', 'on', 'it', 'is', 'pulled', 'ashore', 'by', 'a', 'large', 'team', 'of', 'horses.']\n"
     ]
    },
    {
     "data": {
      "application/vnd.jupyter.widget-view+json": {
       "model_id": "663ccfa5bad145f888cc52da6603959f",
       "version_major": 2,
       "version_minor": 0
      },
      "text/plain": [
       "HBox(children=(FloatProgress(value=1.0, bar_style='info', max=1.0), HTML(value='')))"
      ]
     },
     "metadata": {},
     "output_type": "display_data"
    },
    {
     "name": "stdout",
     "output_type": "stream",
     "text": [
      "\n",
      "3.2612903118133545\n",
      "=> Saving checkpoint\n",
      "Translated example sentence ['a', 'boat', 'is', 'to', 'the', 'the', 'the', 'the', 'the', 'the', '.', '<eos>']\n",
      "Real Translation ['a', 'boat', 'with', 'several', 'men', 'on', 'it', 'is', 'pulled', 'ashore', 'by', 'a', 'large', 'team', 'of', 'horses.']\n"
     ]
    },
    {
     "data": {
      "application/vnd.jupyter.widget-view+json": {
       "model_id": "4450a7c2110e44c38aace4f3ec16f76a",
       "version_major": 2,
       "version_minor": 0
      },
      "text/plain": [
       "HBox(children=(FloatProgress(value=1.0, bar_style='info', max=1.0), HTML(value='')))"
      ]
     },
     "metadata": {},
     "output_type": "display_data"
    },
    {
     "name": "stdout",
     "output_type": "stream",
     "text": [
      "\n",
      "=> Saving checkpoint\n",
      "Translated example sentence ['a', 'bird', 'of', 'with', 'two', 'people', 'people', 'in', 'the', 'the', '.', '<eos>']\n",
      "Real Translation ['a', 'boat', 'with', 'several', 'men', 'on', 'it', 'is', 'pulled', 'ashore', 'by', 'a', 'large', 'team', 'of', 'horses.']\n"
     ]
    },
    {
     "data": {
      "application/vnd.jupyter.widget-view+json": {
       "model_id": "0352f0ba85fc40d29a9cf0197ee19aae",
       "version_major": 2,
       "version_minor": 0
      },
      "text/plain": [
       "HBox(children=(FloatProgress(value=1.0, bar_style='info', max=1.0), HTML(value='')))"
      ]
     },
     "metadata": {},
     "output_type": "display_data"
    },
    {
     "name": "stdout",
     "output_type": "stream",
     "text": [
      "\n",
      "2.5924432277679443\n",
      "=> Saving checkpoint\n",
      "Translated example sentence ['a', 'fisherman', 'is', 'with', 'a', 'couple', 'is', 'the', 'the', 'in', 'the', '.', '<eos>']\n",
      "Real Translation ['a', 'boat', 'with', 'several', 'men', 'on', 'it', 'is', 'pulled', 'ashore', 'by', 'a', 'large', 'team', 'of', 'horses.']\n"
     ]
    },
    {
     "data": {
      "application/vnd.jupyter.widget-view+json": {
       "model_id": "57e1d9b6fdd942509d063366d39e0b49",
       "version_major": 2,
       "version_minor": 0
      },
      "text/plain": [
       "HBox(children=(FloatProgress(value=1.0, bar_style='info', max=1.0), HTML(value='')))"
      ]
     },
     "metadata": {},
     "output_type": "display_data"
    },
    {
     "name": "stdout",
     "output_type": "stream",
     "text": [
      "\n",
      "=> Saving checkpoint\n",
      "Translated example sentence ['a', 'bird', 'is', 'with', 'with', 'a', 'people', 'spread', 'by', 'the', '.', '<eos>']\n",
      "Real Translation ['a', 'boat', 'with', 'several', 'men', 'on', 'it', 'is', 'pulled', 'ashore', 'by', 'a', 'large', 'team', 'of', 'horses.']\n"
     ]
    },
    {
     "data": {
      "application/vnd.jupyter.widget-view+json": {
       "model_id": "02ccd68705f7494e83e251d69f737dc7",
       "version_major": 2,
       "version_minor": 0
      },
      "text/plain": [
       "HBox(children=(FloatProgress(value=1.0, bar_style='info', max=1.0), HTML(value='')))"
      ]
     },
     "metadata": {},
     "output_type": "display_data"
    },
    {
     "name": "stdout",
     "output_type": "stream",
     "text": [
      "\n",
      "2.9081919193267822\n",
      "=> Saving checkpoint\n",
      "Translated example sentence ['a', 'bird', 'with', 'with', 'a', 'number', 'people', 'in', 'a', 'the', 'the', '.', '<eos>']\n",
      "Real Translation ['a', 'boat', 'with', 'several', 'men', 'on', 'it', 'is', 'pulled', 'ashore', 'by', 'a', 'large', 'team', 'of', 'horses.']\n"
     ]
    },
    {
     "data": {
      "application/vnd.jupyter.widget-view+json": {
       "model_id": "43f16715cc584e1e811093d72c2eaa87",
       "version_major": 2,
       "version_minor": 0
      },
      "text/plain": [
       "HBox(children=(FloatProgress(value=1.0, bar_style='info', max=1.0), HTML(value='')))"
      ]
     },
     "metadata": {},
     "output_type": "display_data"
    },
    {
     "name": "stdout",
     "output_type": "stream",
     "text": [
      "\n",
      "=> Saving checkpoint\n",
      "Translated example sentence ['a', 'boat', 'is', 'with', 'with', 'people', 'people', 'waiting', 'through', 'the', 'water', '.', '<eos>']\n",
      "Real Translation ['a', 'boat', 'with', 'several', 'men', 'on', 'it', 'is', 'pulled', 'ashore', 'by', 'a', 'large', 'team', 'of', 'horses.']\n"
     ]
    },
    {
     "data": {
      "application/vnd.jupyter.widget-view+json": {
       "model_id": "c89188fe27214cf29a1854ab6b02da0c",
       "version_major": 2,
       "version_minor": 0
      },
      "text/plain": [
       "HBox(children=(FloatProgress(value=1.0, bar_style='info', max=1.0), HTML(value='')))"
      ]
     },
     "metadata": {},
     "output_type": "display_data"
    },
    {
     "name": "stdout",
     "output_type": "stream",
     "text": [
      "\n",
      "2.879793643951416\n",
      "=> Saving checkpoint\n",
      "Translated example sentence ['a', 'boat', 'is', 'with', 'with', 'a', 'people', 'is', 'people', 'is', 'by', 'a', 'a', 'crowd', 'of', 'people', '.', '<eos>']\n",
      "Real Translation ['a', 'boat', 'with', 'several', 'men', 'on', 'it', 'is', 'pulled', 'ashore', 'by', 'a', 'large', 'team', 'of', 'horses.']\n"
     ]
    },
    {
     "data": {
      "application/vnd.jupyter.widget-view+json": {
       "model_id": "280331e57c674f70ab15c38fd35d926e",
       "version_major": 2,
       "version_minor": 0
      },
      "text/plain": [
       "HBox(children=(FloatProgress(value=1.0, bar_style='info', max=1.0), HTML(value='')))"
      ]
     },
     "metadata": {},
     "output_type": "display_data"
    },
    {
     "name": "stdout",
     "output_type": "stream",
     "text": [
      "\n",
      "=> Saving checkpoint\n",
      "Translated example sentence ['a', 'boat', 'with', 'with', 'a', '<unk>', 'of', 'people', 'walking', 'through', 'a', 'a', '.', '.', '<eos>']\n",
      "Real Translation ['a', 'boat', 'with', 'several', 'men', 'on', 'it', 'is', 'pulled', 'ashore', 'by', 'a', 'large', 'team', 'of', 'horses.']\n"
     ]
    },
    {
     "data": {
      "application/vnd.jupyter.widget-view+json": {
       "model_id": "1e1afb1184684ea39b8d0a9bcde7c047",
       "version_major": 2,
       "version_minor": 0
      },
      "text/plain": [
       "HBox(children=(FloatProgress(value=1.0, bar_style='info', max=1.0), HTML(value='')))"
      ]
     },
     "metadata": {},
     "output_type": "display_data"
    },
    {
     "name": "stdout",
     "output_type": "stream",
     "text": [
      "\n",
      "2.5517892837524414\n",
      "=> Saving checkpoint\n",
      "Translated example sentence ['a', 'boat', 'of', 'with', 'with', 'a', 'people', 'is', 'waiting', 'by', 'a', 'a', '.', '.', '<eos>']\n",
      "Real Translation ['a', 'boat', 'with', 'several', 'men', 'on', 'it', 'is', 'pulled', 'ashore', 'by', 'a', 'large', 'team', 'of', 'horses.']\n"
     ]
    },
    {
     "data": {
      "application/vnd.jupyter.widget-view+json": {
       "model_id": "c34035684ac84e5d8c3938dfaf9c0b7f",
       "version_major": 2,
       "version_minor": 0
      },
      "text/plain": [
       "HBox(children=(FloatProgress(value=1.0, bar_style='info', max=1.0), HTML(value='')))"
      ]
     },
     "metadata": {},
     "output_type": "display_data"
    },
    {
     "name": "stdout",
     "output_type": "stream",
     "text": [
      "\n",
      "=> Saving checkpoint\n",
      "Translated example sentence ['a', 'bird', 'with', 'wings', 'outstreached', 'is', 'the', 'by', 'the', '<unk>', '.', '<eos>']\n",
      "Real Translation ['a', 'boat', 'with', 'several', 'men', 'on', 'it', 'is', 'pulled', 'ashore', 'by', 'a', 'large', 'team', 'of', 'horses.']\n"
     ]
    },
    {
     "data": {
      "application/vnd.jupyter.widget-view+json": {
       "model_id": "36812309e6b7471dae6ac3ba84700cfb",
       "version_major": 2,
       "version_minor": 0
      },
      "text/plain": [
       "HBox(children=(FloatProgress(value=1.0, bar_style='info', max=1.0), HTML(value='')))"
      ]
     },
     "metadata": {},
     "output_type": "display_data"
    },
    {
     "name": "stdout",
     "output_type": "stream",
     "text": [
      "\n",
      "2.111344814300537\n",
      "\n"
     ]
    }
   ],
   "source": [
    "pad_idx = english.vocab.stoi['<pad>']\n",
    "\n",
    "criterion = nn.CrossEntropyLoss(ignore_index  = pad_idx)\n",
    "\n",
    "if load_model:\n",
    "    load_checkpoint(torch.load('seq2seq_no_attention.pth.pt'),model,optimizer)\n",
    "    \n",
    "\n",
    "loss = 10000\n",
    "sentence = \"ein boot mit mehreren männern darauf wird von einem großen pferdegespann ans ufer gezogen.\"\n",
    "real_translation = 'a boat with several men on it is pulled ashore by a large team of horses.'\n",
    "for epoch in tqdm(range(num_epochs)):\n",
    "    \n",
    "    checkpoint = {'state_dict':seq2seqModel.state_dict(),'optimizer':optimizer.state_dict()}\n",
    "    save_checkpoint(checkpoint)\n",
    "    \n",
    "    seq2seqModel.eval()\n",
    "    translated_sentence = translate_sentence(seq2seqModel,sentence,german,english,device,max_length = 50)\n",
    "\n",
    "    print(f'Translated example sentence {translated_sentence}')\n",
    "    print(f'Real Translation {real_translation.split()}')\n",
    "    \n",
    "    seq2seqModel.train()\n",
    "    \n",
    "    \n",
    "    \n",
    "    for batch_idx,batch in tqdm(enumerate(train_iterator)):\n",
    "        \n",
    "        input_data = batch.src.to(device)\n",
    "        target = batch.trg.to(device)\n",
    "        \n",
    "        output = seq2seqModel(input_data, target)\n",
    "        \n",
    "        #output shape : targetlen,batchsize,outputdim\n",
    "        \n",
    "        output = output[1:].reshape(-1,output.shape[2])\n",
    "        target = target[1:].reshape(-1)\n",
    "        \n",
    "        \n",
    "        optimizer.zero_grad()\n",
    "        loss = criterion(output,target)\n",
    "        \n",
    "        loss.backward()\n",
    "        \n",
    "        torch.nn.utils.clip_grad_norm_(seq2seqModel.parameters(),max_norm = 1)\n",
    "        \n",
    "        \n",
    "        optimizer.step()\n",
    "        \n",
    "        writer.add_scalar('Training_loss',loss,global_step = step)\n",
    "        \n",
    "        step+=1\n",
    "        \n",
    "    if epoch % 2 == 0:\n",
    "            print(loss.item())\n",
    "        \n",
    "    "
   ]
  },
  {
   "cell_type": "code",
   "execution_count": 18,
   "metadata": {},
   "outputs": [
    {
     "name": "stdout",
     "output_type": "stream",
     "text": [
      "Bleu score 12.34\n"
     ]
    }
   ],
   "source": [
    "score = bleu(test_data[1:100], seq2seqModel, german, english, device)\n",
    "print(f\"Bleu score {score * 100:.2f}\")"
   ]
  },
  {
   "cell_type": "code",
   "execution_count": null,
   "metadata": {},
   "outputs": [],
   "source": []
  },
  {
   "cell_type": "code",
   "execution_count": null,
   "metadata": {},
   "outputs": [],
   "source": []
  }
 ],
 "metadata": {
  "kernelspec": {
   "display_name": "Python 3",
   "language": "python",
   "name": "python3"
  },
  "language_info": {
   "codemirror_mode": {
    "name": "ipython",
    "version": 3
   },
   "file_extension": ".py",
   "mimetype": "text/x-python",
   "name": "python",
   "nbconvert_exporter": "python",
   "pygments_lexer": "ipython3",
   "version": "3.7.7"
  }
 },
 "nbformat": 4,
 "nbformat_minor": 4
}
