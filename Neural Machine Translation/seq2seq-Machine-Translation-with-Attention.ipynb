{
 "cells": [
  {
   "cell_type": "markdown",
   "metadata": {},
   "source": [
    "PAPER BY  : https://arxiv.org/abs/1409.0473"
   ]
  },
  {
   "cell_type": "code",
   "execution_count": 1,
   "metadata": {},
   "outputs": [],
   "source": [
    "import torch\n",
    "import spacy\n",
    "import random\n",
    "import numpy as np\n",
    "\n",
    "import torch.nn as nn\n",
    "import torch.optim as optim\n",
    "\n",
    "from tqdm.notebook import tqdm\n",
    "from torchtext.datasets import Multi30k\n",
    "from torchtext.data import Field,BucketIterator\n",
    "from torch.utils.tensorboard import SummaryWriter\n",
    "from helper_utils import translate_sentence,bleu,save_checkpoint,load_checkpoint"
   ]
  },
  {
   "cell_type": "code",
   "execution_count": 2,
   "metadata": {},
   "outputs": [
    {
     "name": "stdout",
     "output_type": "stream",
     "text": [
      "Current Device: cuda:0\n",
      "NVIDIA GeForce RTX 2060\n",
      "Total GPU Memory 6442450944 B , Cached GPU Memory 0 B, Allocated GPU Memory 0 B\n"
     ]
    }
   ],
   "source": [
    "def get_gpu_details():\n",
    "    t = torch.cuda.get_device_properties(0).total_memory\n",
    "    c = torch.cuda.memory_cached(0)\n",
    "    a = torch.cuda.memory_allocated(0)\n",
    "    print(torch.cuda.get_device_name())\n",
    "    print(f'Total GPU Memory {t} B , Cached GPU Memory {c} B, Allocated GPU Memory {a} B')\n",
    "    \n",
    "    \n",
    "    \n",
    "if torch.cuda.is_available():\n",
    "    device='cuda:0'\n",
    "else:\n",
    "    device='cpu'\n",
    "print(f'Current Device: {device}')\n",
    "if device=='cuda:0':\n",
    "    torch.cuda.empty_cache()\n",
    "    get_gpu_details()"
   ]
  },
  {
   "cell_type": "code",
   "execution_count": 3,
   "metadata": {},
   "outputs": [],
   "source": [
    "spacy_german = spacy.load('de_core_news_md')\n",
    "spacy_english = spacy.load('en')"
   ]
  },
  {
   "cell_type": "code",
   "execution_count": 4,
   "metadata": {},
   "outputs": [],
   "source": [
    "# spacy_german = spacy.load('de_core_news_sm')\n",
    "# spacy_english = spacy.load('en_core_web_sm')"
   ]
  },
  {
   "cell_type": "code",
   "execution_count": 5,
   "metadata": {},
   "outputs": [],
   "source": [
    "def german_tokenizer(sentence):\n",
    "        return [token.text for token in spacy_german.tokenizer(sentence)]\n",
    "    \n",
    "def english_tokenizer(sentence):\n",
    "    return [token.text for token in spacy_english.tokenizer(sentence)]"
   ]
  },
  {
   "cell_type": "code",
   "execution_count": null,
   "metadata": {},
   "outputs": [],
   "source": []
  },
  {
   "cell_type": "code",
   "execution_count": 6,
   "metadata": {},
   "outputs": [],
   "source": [
    "german = Field(tokenize = german_tokenizer,lower = True,init_token = '<sos>',eos_token = '<eos>')\n",
    "\n",
    "english = Field(tokenize = english_tokenizer,lower = True,init_token = '<sos>',eos_token = '<eos>')\n"
   ]
  },
  {
   "cell_type": "code",
   "execution_count": 7,
   "metadata": {},
   "outputs": [],
   "source": [
    "train_data , val_data , test_data = Multi30k.splits(exts = ('.de','.en'),\n",
    "                                                   fields = (german,english))\n",
    "\n",
    "\n",
    "german.build_vocab(train_data,max_size = 10000,min_freq = 2)\n",
    "english.build_vocab(train_data,max_size = 10000,min_freq = 2)"
   ]
  },
  {
   "cell_type": "code",
   "execution_count": null,
   "metadata": {},
   "outputs": [],
   "source": []
  },
  {
   "cell_type": "code",
   "execution_count": 8,
   "metadata": {},
   "outputs": [],
   "source": [
    "class Encoder(nn.Module):\n",
    "    def __init__(self,size_of_vocab1, embedding_size, hidden_size ,num_layers, dropout_rate):\n",
    "        \n",
    "        super(Encoder,self).__init__()\n",
    "        \n",
    "        self.hidden_size = hidden_size\n",
    "        self.num_layers = num_layers\n",
    "        \n",
    "        self.embedding = nn.Embedding(size_of_vocab1 , embedding_size)\n",
    "        self.dropout = nn.Dropout(dropout_rate)\n",
    "        \n",
    "        self.encoderRNN = nn.LSTM(embedding_size, hidden_size, num_layers , bidirectional=True)\n",
    "        self.full_connected_hidden = nn.Linear(hidden_size * 2, hidden_size)\n",
    "        self.full_connected_cell = nn.Linear(hidden_size * 2, hidden_size)\n",
    "        \n",
    "        \n",
    "    def forward(self, sentence):\n",
    "        #sentence shape = (sequence_length , batch_size)\n",
    "        \n",
    "        embedding = self.embedding(sentence)\n",
    "        #for each word in the seq there's a mapping to a embedding dim space (seq_len, batch_size,embed_dim)\n",
    "        \n",
    "        embedding = self.dropout(embedding)\n",
    "        \n",
    "        encoder_states, (hidden_state,cell_state) = self.encoderRNN(embedding)\n",
    "        \n",
    "        #shape = (2,batchsize,hiddensize)\n",
    "        hidden_state = self.full_connected_hidden(torch.cat((hidden_state[0:1],hidden_state[1:2]),dim = 2))\n",
    "        \n",
    "        cell_state = self.full_connected_cell(torch.cat((cell_state[0:1],cell_state[1:2]),dim = 2))\n",
    "    \n",
    "        return encoder_states,hidden_state,cell_state\n",
    "        "
   ]
  },
  {
   "cell_type": "code",
   "execution_count": 9,
   "metadata": {},
   "outputs": [],
   "source": [
    "class Decoder(nn.Module):\n",
    "    def __init__(self,size_of_vocab2,embedding_size,hidden_size,num_layers, dropout_rate):\n",
    "        \n",
    "        super(Decoder,self).__init__()\n",
    "        \n",
    "        \n",
    "        self.hidden_size = hidden_size\n",
    "        self.num_layers = num_layers\n",
    "        \n",
    "        self.dropout = nn.Dropout(dropout_rate)\n",
    "        self.embedding = nn.Embedding(size_of_vocab2, embedding_size)\n",
    "        \n",
    "        self.decoderRNN = nn.LSTM(hidden_size*2 + embedding_size,hidden_size,\n",
    "                                  num_layers)\n",
    "        \n",
    "        self.energy = nn.Linear(hidden_size*3 , 1)\n",
    "        \n",
    "        self.fully_connected = nn.Linear(hidden_size,size_of_vocab2)\n",
    "        \n",
    "        self.softmax = nn.Softmax(dim = 0)\n",
    "        self.relu = nn.ReLU()\n",
    "        \n",
    "    def forward(self,inp, encoder_states,hidden_state, cell_state):\n",
    "        \n",
    "        #shape of inp is batch_size, we want 1,batch_size so unsqueeze to add one dimension\n",
    "        \n",
    "        inp = inp.unsqueeze(0)\n",
    "        \n",
    "        embedding = self.embedding(inp)\n",
    "        embedding  = self.dropout(embedding)\n",
    "        \n",
    "        #find energy states\n",
    "        sequence_length = encoder_states.shape[0]\n",
    "        hidden_reshaped = hidden_state.repeat(sequence_length,1,1)\n",
    "        \n",
    "        energy = self.relu(self.energy(torch.cat((hidden_reshaped,encoder_states),dim =2 )))\n",
    "        \n",
    "        attention = self.softmax(energy)\n",
    "        \n",
    "        #(batch_size,1,hidden_size*2) ---> (1,batch_size,hidden_size*2)\n",
    "    \n",
    "        context_vector = torch.einsum(\"snk,snl->knl\", attention, encoder_states)\n",
    "        \n",
    "        rnn_input = torch.cat((context_vector,embedding),dim = 2)\n",
    "        \n",
    "        \n",
    "        \n",
    "        outputs, (hidden_state,cell_state) = self.decoderRNN(rnn_input ,(hidden_state,cell_state))\n",
    "        #shape : 1,batch_size,hidden_size\n",
    "        #hidden_state and cell_state will be used for next word prediction in the sequence\n",
    "        \n",
    "        predictions = self.fully_connected(outputs)\n",
    "        #predictions shape is (1,batch_size,length_of_vocab) so squeeze again\n",
    "        \n",
    "        predictions = predictions.squeeze(0)\n",
    "        \n",
    "        return predictions,hidden_state,cell_state"
   ]
  },
  {
   "cell_type": "code",
   "execution_count": 10,
   "metadata": {},
   "outputs": [],
   "source": [
    "class seq2seq(nn.Module):\n",
    "    def __init__(self,encoder,decoder):\n",
    "            super(seq2seq,self).__init__()\n",
    "            self.encoder_block = encoder\n",
    "            self.decoder_block = decoder\n",
    "            \n",
    "    def forward(self,source,target, teaching_force_ratio = 0.5):\n",
    "        #teaching_force_ratio helps in sometimes using the actual word as next inp and sometimes\n",
    "        #the predicted word as the next input\n",
    "        \n",
    "        #source = (target_len,batch_size)\n",
    "        batch_size = source.shape[1]\n",
    "        \n",
    "        target_len = target.shape[0]\n",
    "                \n",
    "        target_vocab_size = len(english.vocab)\n",
    "        \n",
    "        outputs = torch.zeros(target_len,batch_size,target_vocab_size).to(device)\n",
    "        \n",
    "        encoder_states,encoder_hidden , encoder_cell = self.encoder_block(source)\n",
    "        \n",
    "        #get start token\n",
    "        next_inp = target[0]\n",
    "        \n",
    "        for idx in range(1,target_len):\n",
    "            \n",
    "            output,encoder_hidden,encoder_cell = self.decoder_block(next_inp,encoder_states,\n",
    "                                                                    encoder_hidden,encoder_cell)\n",
    "            outputs[idx] = output\n",
    "            \n",
    "            best_guess = output.argmax(1)\n",
    "            \n",
    "            next_inp = target[idx] if random.random() < teaching_force_ratio else best_guess\n",
    "            \n",
    "        return outputs"
   ]
  },
  {
   "cell_type": "code",
   "execution_count": 11,
   "metadata": {},
   "outputs": [],
   "source": [
    "num_epochs = 25\n",
    "learning_rate = 1e-3\n",
    "batch_size = 64"
   ]
  },
  {
   "cell_type": "code",
   "execution_count": 12,
   "metadata": {},
   "outputs": [],
   "source": [
    "load_model = False\n",
    "\n",
    "encoder_inp_size = len(german.vocab)\n",
    "decoder_inp_size = len(english.vocab)\n",
    "\n",
    "output_size = len(english.vocab)\n",
    "\n",
    "encoder_embedding_dim = 300\n",
    "decoder_embedding_dim = 300\n",
    "\n",
    "hidden_size = 1024\n",
    "num_layers = 1\n",
    "encoder_dropout = 0.5\n",
    "decoder_dropout = 0.5\n",
    "\n",
    "writer = SummaryWriter(f'runs/loss_plot')\n",
    "step = 0 "
   ]
  },
  {
   "cell_type": "code",
   "execution_count": 13,
   "metadata": {},
   "outputs": [],
   "source": [
    "train_iterator, val_iterator, test_iterator = BucketIterator.splits((train_data,val_data,test_data),\n",
    "                                                                   batch_size = batch_size,\n",
    "                                                                  sort_within_batch = True,\n",
    "                                                                  sort_key = lambda x : len(x.src),\n",
    "                                                                  device = device)"
   ]
  },
  {
   "cell_type": "code",
   "execution_count": 14,
   "metadata": {},
   "outputs": [],
   "source": [
    "encoderNN = Encoder(encoder_inp_size,encoder_embedding_dim,hidden_size,num_layers,encoder_dropout).to(device)"
   ]
  },
  {
   "cell_type": "code",
   "execution_count": 15,
   "metadata": {},
   "outputs": [],
   "source": [
    "decoderNN = Decoder(decoder_inp_size,decoder_embedding_dim,hidden_size,num_layers,decoder_dropout).to(device)"
   ]
  },
  {
   "cell_type": "code",
   "execution_count": 16,
   "metadata": {},
   "outputs": [],
   "source": [
    "seq2seqModel = seq2seq(encoderNN,decoderNN).to(device)"
   ]
  },
  {
   "cell_type": "code",
   "execution_count": 17,
   "metadata": {},
   "outputs": [],
   "source": [
    "optimizer = optim.Adam(seq2seqModel.parameters(),lr = learning_rate)"
   ]
  },
  {
   "cell_type": "code",
   "execution_count": 18,
   "metadata": {
    "scrolled": false
   },
   "outputs": [
    {
     "data": {
      "application/vnd.jupyter.widget-view+json": {
       "model_id": "8f9afa20210c436f8f9cb04109dc4146",
       "version_major": 2,
       "version_minor": 0
      },
      "text/plain": [
       "HBox(children=(FloatProgress(value=0.0, max=25.0), HTML(value='')))"
      ]
     },
     "metadata": {},
     "output_type": "display_data"
    },
    {
     "name": "stdout",
     "output_type": "stream",
     "text": [
      "=> Saving checkpoint\n",
      "Translated example sentence ['glancing', 'covering', 'winning', 'sweaters', 'finishes', 'vacant', 'waterproof', 'mom', 'paddling', 'khakis', 'off', 'care', 'attaching', 'pilot', 'attacking', 'across', 'yarn', 'routine', 'guitar', 'campfire', 'presents', 'tipped', 'manicured', 'bullet', 'hotel', 'sweatsuit', 'flag', 'him', 'flights', 'equipment', 'tv', 'tv', 'tv', 'tv', 'tv', 'tv', 'loaded', 'snorkel', 'tin', 'laundry', 'cyclists', 'magician', 'parade', 'gown', 'align', 'prepared', 'directly', 'photography', 'watery', 'tye']\n",
      "Real Translation ['a', 'boat', 'with', 'several', 'men', 'on', 'it', 'is', 'pulled', 'ashore', 'by', 'a', 'large', 'team', 'of', 'horses.']\n"
     ]
    },
    {
     "data": {
      "application/vnd.jupyter.widget-view+json": {
       "model_id": "faaff9a32f924a5faac38d5542d7834d",
       "version_major": 2,
       "version_minor": 0
      },
      "text/plain": [
       "HBox(children=(FloatProgress(value=1.0, bar_style='info', max=1.0), HTML(value='')))"
      ]
     },
     "metadata": {},
     "output_type": "display_data"
    },
    {
     "name": "stdout",
     "output_type": "stream",
     "text": [
      "\n",
      "3.2756073474884033\n",
      "=> Saving checkpoint\n",
      "Translated example sentence ['a', 'toddler', 'player', 'wearing', 'a', 'black', 'shirt', 'is', 'to', 'a', 'a', 'of', 'a', '.', '<eos>']\n",
      "Real Translation ['a', 'boat', 'with', 'several', 'men', 'on', 'it', 'is', 'pulled', 'ashore', 'by', 'a', 'large', 'team', 'of', 'horses.']\n"
     ]
    },
    {
     "data": {
      "application/vnd.jupyter.widget-view+json": {
       "model_id": "1d3c1d7f2eb444878c6042efee450964",
       "version_major": 2,
       "version_minor": 0
      },
      "text/plain": [
       "HBox(children=(FloatProgress(value=1.0, bar_style='info', max=1.0), HTML(value='')))"
      ]
     },
     "metadata": {},
     "output_type": "display_data"
    },
    {
     "name": "stdout",
     "output_type": "stream",
     "text": [
      "\n",
      "=> Saving checkpoint\n",
      "Translated example sentence ['a', 'white', 'man', 'with', 'a', 'is', 'being', 'by', 'from', 'a', 'large', 'large', 'large', '.', '.', '<eos>']\n",
      "Real Translation ['a', 'boat', 'with', 'several', 'men', 'on', 'it', 'is', 'pulled', 'ashore', 'by', 'a', 'large', 'team', 'of', 'horses.']\n"
     ]
    },
    {
     "data": {
      "application/vnd.jupyter.widget-view+json": {
       "model_id": "efe6532ebddd4a99a75fdb33a058024a",
       "version_major": 2,
       "version_minor": 0
      },
      "text/plain": [
       "HBox(children=(FloatProgress(value=1.0, bar_style='info', max=1.0), HTML(value='')))"
      ]
     },
     "metadata": {},
     "output_type": "display_data"
    },
    {
     "name": "stdout",
     "output_type": "stream",
     "text": [
      "\n",
      "2.337797164916992\n",
      "=> Saving checkpoint\n",
      "Translated example sentence ['a', 'man', 'with', 'no', 'is', 'being', 'pulled', 'by', 'a', 'large', 'large', 'large', '.', '.', '<eos>']\n",
      "Real Translation ['a', 'boat', 'with', 'several', 'men', 'on', 'it', 'is', 'pulled', 'ashore', 'by', 'a', 'large', 'team', 'of', 'horses.']\n"
     ]
    },
    {
     "data": {
      "application/vnd.jupyter.widget-view+json": {
       "model_id": "16785089e77e44a59741108db9c85934",
       "version_major": 2,
       "version_minor": 0
      },
      "text/plain": [
       "HBox(children=(FloatProgress(value=1.0, bar_style='info', max=1.0), HTML(value='')))"
      ]
     },
     "metadata": {},
     "output_type": "display_data"
    },
    {
     "name": "stdout",
     "output_type": "stream",
     "text": [
      "\n",
      "=> Saving checkpoint\n",
      "Translated example sentence ['a', 'cowboy', 'with', 'no', 'pulled', 'pulled', 'by', 'a', 'large', 'large', 'large', 'large', '.', '.', '<eos>']\n",
      "Real Translation ['a', 'boat', 'with', 'several', 'men', 'on', 'it', 'is', 'pulled', 'ashore', 'by', 'a', 'large', 'team', 'of', 'horses.']\n"
     ]
    },
    {
     "data": {
      "application/vnd.jupyter.widget-view+json": {
       "model_id": "9e8e22709d164dee90633e4fb5fa540b",
       "version_major": 2,
       "version_minor": 0
      },
      "text/plain": [
       "HBox(children=(FloatProgress(value=1.0, bar_style='info', max=1.0), HTML(value='')))"
      ]
     },
     "metadata": {},
     "output_type": "display_data"
    },
    {
     "name": "stdout",
     "output_type": "stream",
     "text": [
      "\n",
      "3.077989101409912\n",
      "=> Saving checkpoint\n",
      "Translated example sentence ['a', 'shirtless', 'man', 'with', 'no', 'pulled', 'is', 'being', 'pulled', 'by', 'a', 'large', 'bull', '.', '<eos>']\n",
      "Real Translation ['a', 'boat', 'with', 'several', 'men', 'on', 'it', 'is', 'pulled', 'ashore', 'by', 'a', 'large', 'team', 'of', 'horses.']\n"
     ]
    },
    {
     "data": {
      "application/vnd.jupyter.widget-view+json": {
       "model_id": "934836ecbb8a4883839a01833b20e57f",
       "version_major": 2,
       "version_minor": 0
      },
      "text/plain": [
       "HBox(children=(FloatProgress(value=1.0, bar_style='info', max=1.0), HTML(value='')))"
      ]
     },
     "metadata": {},
     "output_type": "display_data"
    },
    {
     "name": "stdout",
     "output_type": "stream",
     "text": [
      "\n",
      "=> Saving checkpoint\n",
      "Translated example sentence ['a', 'shirtless', 'with', 'a', 'cowboy', 'men', 'pulled', 'pulled', 'by', 'a', 'large', 'bull', 'by', 'a', 'large', 'bull', '.', '<eos>']\n",
      "Real Translation ['a', 'boat', 'with', 'several', 'men', 'on', 'it', 'is', 'pulled', 'ashore', 'by', 'a', 'large', 'team', 'of', 'horses.']\n"
     ]
    },
    {
     "data": {
      "application/vnd.jupyter.widget-view+json": {
       "model_id": "94337dd66c7f45e4992d3df2bbbbef71",
       "version_major": 2,
       "version_minor": 0
      },
      "text/plain": [
       "HBox(children=(FloatProgress(value=1.0, bar_style='info', max=1.0), HTML(value='')))"
      ]
     },
     "metadata": {},
     "output_type": "display_data"
    },
    {
     "name": "stdout",
     "output_type": "stream",
     "text": [
      "\n",
      "2.273533344268799\n",
      "=> Saving checkpoint\n",
      "Translated example sentence ['a', 'cowboy', 'cowboy', 'with', 'a', 'pulled', 'pulled', 'pulled', 'by', 'a', 'large', 'bull', 'by', 'a', 'large', 'bull', '.', '<eos>']\n",
      "Real Translation ['a', 'boat', 'with', 'several', 'men', 'on', 'it', 'is', 'pulled', 'ashore', 'by', 'a', 'large', 'team', 'of', 'horses.']\n"
     ]
    },
    {
     "data": {
      "application/vnd.jupyter.widget-view+json": {
       "model_id": "656c89ff1cb048fe9a632782e94f8ce4",
       "version_major": 2,
       "version_minor": 0
      },
      "text/plain": [
       "HBox(children=(FloatProgress(value=1.0, bar_style='info', max=1.0), HTML(value='')))"
      ]
     },
     "metadata": {},
     "output_type": "display_data"
    },
    {
     "name": "stdout",
     "output_type": "stream",
     "text": [
      "\n",
      "=> Saving checkpoint\n",
      "Translated example sentence ['a', 'boat', 'with', 'pulled', 'pulled', 'pulled', 'pulled', 'pulled', 'by', 'a', 'large', 'large', 'bull', 'by', 'large', 'large', '.', '<eos>']\n",
      "Real Translation ['a', 'boat', 'with', 'several', 'men', 'on', 'it', 'is', 'pulled', 'ashore', 'by', 'a', 'large', 'team', 'of', 'horses.']\n"
     ]
    },
    {
     "data": {
      "application/vnd.jupyter.widget-view+json": {
       "model_id": "b5556e9b077f4c97bb4f8a0beff31d29",
       "version_major": 2,
       "version_minor": 0
      },
      "text/plain": [
       "HBox(children=(FloatProgress(value=1.0, bar_style='info', max=1.0), HTML(value='')))"
      ]
     },
     "metadata": {},
     "output_type": "display_data"
    },
    {
     "name": "stdout",
     "output_type": "stream",
     "text": [
      "\n",
      "1.3996968269348145\n",
      "=> Saving checkpoint\n",
      "Translated example sentence ['a', 'boat', 'with', 'several', 'men', 'being', 'pulled', 'by', 'a', 'large', 'by', 'large', 'bull', '.', '<eos>']\n",
      "Real Translation ['a', 'boat', 'with', 'several', 'men', 'on', 'it', 'is', 'pulled', 'ashore', 'by', 'a', 'large', 'team', 'of', 'horses.']\n"
     ]
    },
    {
     "data": {
      "application/vnd.jupyter.widget-view+json": {
       "model_id": "ba8c8b78e7214a119c021a05435a7fd9",
       "version_major": 2,
       "version_minor": 0
      },
      "text/plain": [
       "HBox(children=(FloatProgress(value=1.0, bar_style='info', max=1.0), HTML(value='')))"
      ]
     },
     "metadata": {},
     "output_type": "display_data"
    },
    {
     "name": "stdout",
     "output_type": "stream",
     "text": [
      "\n",
      "=> Saving checkpoint\n",
      "Translated example sentence ['a', 'cowboy', 'with', 'several', 'men', 'being', 'pulled', 'by', 'a', 'large', 'bull', 'by', 'by', 'horses', '.', '<eos>']\n",
      "Real Translation ['a', 'boat', 'with', 'several', 'men', 'on', 'it', 'is', 'pulled', 'ashore', 'by', 'a', 'large', 'team', 'of', 'horses.']\n"
     ]
    },
    {
     "data": {
      "application/vnd.jupyter.widget-view+json": {
       "model_id": "350cdf006c8d48e687382bb9bb8e8442",
       "version_major": 2,
       "version_minor": 0
      },
      "text/plain": [
       "HBox(children=(FloatProgress(value=1.0, bar_style='info', max=1.0), HTML(value='')))"
      ]
     },
     "metadata": {},
     "output_type": "display_data"
    },
    {
     "name": "stdout",
     "output_type": "stream",
     "text": [
      "\n",
      "1.8416991233825684\n",
      "=> Saving checkpoint\n",
      "Translated example sentence ['a', 'cowboy', 'cowboy', 'several', 'men', 'being', 'pulled', 'by', 'a', 'large', 'bull', 'by', 'horses', '.', '<eos>']\n",
      "Real Translation ['a', 'boat', 'with', 'several', 'men', 'on', 'it', 'is', 'pulled', 'ashore', 'by', 'a', 'large', 'team', 'of', 'horses.']\n"
     ]
    },
    {
     "data": {
      "application/vnd.jupyter.widget-view+json": {
       "model_id": "f4a64b4a990d448bb8701df9cce07007",
       "version_major": 2,
       "version_minor": 0
      },
      "text/plain": [
       "HBox(children=(FloatProgress(value=1.0, bar_style='info', max=1.0), HTML(value='')))"
      ]
     },
     "metadata": {},
     "output_type": "display_data"
    },
    {
     "name": "stdout",
     "output_type": "stream",
     "text": [
      "\n",
      "=> Saving checkpoint\n",
      "Translated example sentence ['a', 'cowboy', 'cowboy', 'with', 'several', 'men', 'being', 'pulled', 'by', 'by', 'a', 'large', 'cable', 'horses', 'horses', 'horses', '.', '<eos>']\n",
      "Real Translation ['a', 'boat', 'with', 'several', 'men', 'on', 'it', 'is', 'pulled', 'ashore', 'by', 'a', 'large', 'team', 'of', 'horses.']\n"
     ]
    },
    {
     "data": {
      "application/vnd.jupyter.widget-view+json": {
       "model_id": "cbd70364d4c64eae91e43fe24c822c56",
       "version_major": 2,
       "version_minor": 0
      },
      "text/plain": [
       "HBox(children=(FloatProgress(value=1.0, bar_style='info', max=1.0), HTML(value='')))"
      ]
     },
     "metadata": {},
     "output_type": "display_data"
    },
    {
     "name": "stdout",
     "output_type": "stream",
     "text": [
      "\n",
      "1.9940751791000366\n",
      "=> Saving checkpoint\n",
      "Translated example sentence ['a', 'boat', 'with', 'several', 'men', 'pulled', 'pulled', 'by', 'a', 'large', 'german', 'pulled', 'by', 'the', 'shore', '.', '<eos>']\n",
      "Real Translation ['a', 'boat', 'with', 'several', 'men', 'on', 'it', 'is', 'pulled', 'ashore', 'by', 'a', 'large', 'team', 'of', 'horses.']\n"
     ]
    },
    {
     "data": {
      "application/vnd.jupyter.widget-view+json": {
       "model_id": "65bbb11b4bc043b7ae6f635b4566cb65",
       "version_major": 2,
       "version_minor": 0
      },
      "text/plain": [
       "HBox(children=(FloatProgress(value=1.0, bar_style='info', max=1.0), HTML(value='')))"
      ]
     },
     "metadata": {},
     "output_type": "display_data"
    },
    {
     "name": "stdout",
     "output_type": "stream",
     "text": [
      "\n",
      "=> Saving checkpoint\n",
      "Translated example sentence ['a', 'boat', 'with', 'several', 'men', 'pulled', 'pulled', 'by', 'a', 'large', 'by', 'a', 'large', 'brown', 'horses', '.', '<eos>']\n",
      "Real Translation ['a', 'boat', 'with', 'several', 'men', 'on', 'it', 'is', 'pulled', 'ashore', 'by', 'a', 'large', 'team', 'of', 'horses.']\n"
     ]
    },
    {
     "data": {
      "application/vnd.jupyter.widget-view+json": {
       "model_id": "3b6017252adf4b7bad4c42b9c1c7c9de",
       "version_major": 2,
       "version_minor": 0
      },
      "text/plain": [
       "HBox(children=(FloatProgress(value=1.0, bar_style='info', max=1.0), HTML(value='')))"
      ]
     },
     "metadata": {},
     "output_type": "display_data"
    },
    {
     "name": "stdout",
     "output_type": "stream",
     "text": [
      "\n",
      "1.1212990283966064\n",
      "=> Saving checkpoint\n",
      "Translated example sentence ['a', 'boat', 'with', 'several', 'men', 'pulled', 'pulled', 'pulled', 'by', 'a', 'large', 'cable', 'horses', '.', '<eos>']\n",
      "Real Translation ['a', 'boat', 'with', 'several', 'men', 'on', 'it', 'is', 'pulled', 'ashore', 'by', 'a', 'large', 'team', 'of', 'horses.']\n"
     ]
    },
    {
     "data": {
      "application/vnd.jupyter.widget-view+json": {
       "model_id": "c802d5eb553a4acbbba0017c98739933",
       "version_major": 2,
       "version_minor": 0
      },
      "text/plain": [
       "HBox(children=(FloatProgress(value=1.0, bar_style='info', max=1.0), HTML(value='')))"
      ]
     },
     "metadata": {},
     "output_type": "display_data"
    },
    {
     "name": "stdout",
     "output_type": "stream",
     "text": [
      "\n",
      "=> Saving checkpoint\n",
      "Translated example sentence ['a', 'boat', 'with', 'several', 'men', 'is', 'pulled', 'to', 'shore', 'by', 'a', 'large', 'donkey', '.', '<eos>']\n",
      "Real Translation ['a', 'boat', 'with', 'several', 'men', 'on', 'it', 'is', 'pulled', 'ashore', 'by', 'a', 'large', 'team', 'of', 'horses.']\n"
     ]
    },
    {
     "data": {
      "application/vnd.jupyter.widget-view+json": {
       "model_id": "6f2a215a6c1a4128a1aa519836201449",
       "version_major": 2,
       "version_minor": 0
      },
      "text/plain": [
       "HBox(children=(FloatProgress(value=1.0, bar_style='info', max=1.0), HTML(value='')))"
      ]
     },
     "metadata": {},
     "output_type": "display_data"
    },
    {
     "name": "stdout",
     "output_type": "stream",
     "text": [
      "\n",
      "1.122049331665039\n",
      "=> Saving checkpoint\n",
      "Translated example sentence ['a', 'boat', 'with', 'several', 'men', 'is', 'pulled', 'pulled', 'by', 'shore', 'by', 'a', 'large', 'cable', 'horses', '.', '<eos>']\n",
      "Real Translation ['a', 'boat', 'with', 'several', 'men', 'on', 'it', 'is', 'pulled', 'ashore', 'by', 'a', 'large', 'team', 'of', 'horses.']\n"
     ]
    },
    {
     "data": {
      "application/vnd.jupyter.widget-view+json": {
       "model_id": "a8cc2b7278084fa9850c7a1e852e7d0e",
       "version_major": 2,
       "version_minor": 0
      },
      "text/plain": [
       "HBox(children=(FloatProgress(value=1.0, bar_style='info', max=1.0), HTML(value='')))"
      ]
     },
     "metadata": {},
     "output_type": "display_data"
    },
    {
     "name": "stdout",
     "output_type": "stream",
     "text": [
      "\n",
      "=> Saving checkpoint\n",
      "Translated example sentence ['a', 'cowboy', 'with', 'several', 'men', 'pulled', 'pulled', 'pulled', 'by', 'by', 'horses', 'by', 'a', 'large', 'wooden', 'horses', '.', '<eos>']\n",
      "Real Translation ['a', 'boat', 'with', 'several', 'men', 'on', 'it', 'is', 'pulled', 'ashore', 'by', 'a', 'large', 'team', 'of', 'horses.']\n"
     ]
    },
    {
     "data": {
      "application/vnd.jupyter.widget-view+json": {
       "model_id": "d681ca53d5e644678c5c45af279034c0",
       "version_major": 2,
       "version_minor": 0
      },
      "text/plain": [
       "HBox(children=(FloatProgress(value=1.0, bar_style='info', max=1.0), HTML(value='')))"
      ]
     },
     "metadata": {},
     "output_type": "display_data"
    },
    {
     "name": "stdout",
     "output_type": "stream",
     "text": [
      "\n",
      "0.8255928754806519\n",
      "=> Saving checkpoint\n",
      "Translated example sentence ['a', 'boat', 'carrying', 'several', 'men', 'is', 'pulled', 'pulled', 'pulled', 'by', 'by', 'a', 'large', 'wooden', 'horses', '.', '<eos>']\n",
      "Real Translation ['a', 'boat', 'with', 'several', 'men', 'on', 'it', 'is', 'pulled', 'ashore', 'by', 'a', 'large', 'team', 'of', 'horses.']\n"
     ]
    },
    {
     "data": {
      "application/vnd.jupyter.widget-view+json": {
       "model_id": "55a905f029194c01879a3a2175dcc9f8",
       "version_major": 2,
       "version_minor": 0
      },
      "text/plain": [
       "HBox(children=(FloatProgress(value=1.0, bar_style='info', max=1.0), HTML(value='')))"
      ]
     },
     "metadata": {},
     "output_type": "display_data"
    },
    {
     "name": "stdout",
     "output_type": "stream",
     "text": [
      "\n",
      "=> Saving checkpoint\n",
      "Translated example sentence ['a', 'boat', 'carrying', 'several', 'men', 'men', 'pulled', 'out', 'of', 'a', 'large', 'bull', 'by', 'horses', '.', '<eos>']\n",
      "Real Translation ['a', 'boat', 'with', 'several', 'men', 'on', 'it', 'is', 'pulled', 'ashore', 'by', 'a', 'large', 'team', 'of', 'horses.']\n"
     ]
    },
    {
     "data": {
      "application/vnd.jupyter.widget-view+json": {
       "model_id": "300989e73a9843a28cb3dc513b95800f",
       "version_major": 2,
       "version_minor": 0
      },
      "text/plain": [
       "HBox(children=(FloatProgress(value=1.0, bar_style='info', max=1.0), HTML(value='')))"
      ]
     },
     "metadata": {},
     "output_type": "display_data"
    },
    {
     "name": "stdout",
     "output_type": "stream",
     "text": [
      "\n",
      "2.612826108932495\n",
      "=> Saving checkpoint\n",
      "Translated example sentence ['a', 'boat', 'carrying', 'several', 'men', 'pulled', 'pulled', 'pulled', 'to', 'shore', 'by', 'a', 'large', 'horses', 'horses', 'horses', 'horses', '.', '<eos>']\n",
      "Real Translation ['a', 'boat', 'with', 'several', 'men', 'on', 'it', 'is', 'pulled', 'ashore', 'by', 'a', 'large', 'team', 'of', 'horses.']\n"
     ]
    },
    {
     "data": {
      "application/vnd.jupyter.widget-view+json": {
       "model_id": "b521e9288c604443b6c7c64863713817",
       "version_major": 2,
       "version_minor": 0
      },
      "text/plain": [
       "HBox(children=(FloatProgress(value=1.0, bar_style='info', max=1.0), HTML(value='')))"
      ]
     },
     "metadata": {},
     "output_type": "display_data"
    },
    {
     "name": "stdout",
     "output_type": "stream",
     "text": [
      "\n",
      "=> Saving checkpoint\n",
      "Translated example sentence ['a', 'boat', 'carrying', 'several', 'men', 'is', 'pulled', 'to', 'shore', 'by', 'a', 'large', 'cable', 'horses', 'horses', '.', '<eos>']\n",
      "Real Translation ['a', 'boat', 'with', 'several', 'men', 'on', 'it', 'is', 'pulled', 'ashore', 'by', 'a', 'large', 'team', 'of', 'horses.']\n"
     ]
    },
    {
     "data": {
      "application/vnd.jupyter.widget-view+json": {
       "model_id": "8fd85b577cd348298b7c33bbdd00efbc",
       "version_major": 2,
       "version_minor": 0
      },
      "text/plain": [
       "HBox(children=(FloatProgress(value=1.0, bar_style='info', max=1.0), HTML(value='')))"
      ]
     },
     "metadata": {},
     "output_type": "display_data"
    },
    {
     "name": "stdout",
     "output_type": "stream",
     "text": [
      "\n",
      "1.9882984161376953\n",
      "=> Saving checkpoint\n",
      "Translated example sentence ['a', 'boat', 'carrying', 'several', 'men', 'is', 'pulled', 'by', 'shore', 'by', 'a', 'large', 'brown', 'horses', 'horses', '.', '<eos>']\n",
      "Real Translation ['a', 'boat', 'with', 'several', 'men', 'on', 'it', 'is', 'pulled', 'ashore', 'by', 'a', 'large', 'team', 'of', 'horses.']\n"
     ]
    },
    {
     "data": {
      "application/vnd.jupyter.widget-view+json": {
       "model_id": "ecca36ef8b2b4213972703c43eab628b",
       "version_major": 2,
       "version_minor": 0
      },
      "text/plain": [
       "HBox(children=(FloatProgress(value=1.0, bar_style='info', max=1.0), HTML(value='')))"
      ]
     },
     "metadata": {},
     "output_type": "display_data"
    },
    {
     "name": "stdout",
     "output_type": "stream",
     "text": [
      "\n",
      "=> Saving checkpoint\n",
      "Translated example sentence ['a', 'boat', 'carrying', 'several', 'men', 'is', 'pulled', 'to', 'shore', 'by', 'a', 'large', 'team', 'of', 'horses', '.', '<eos>']\n",
      "Real Translation ['a', 'boat', 'with', 'several', 'men', 'on', 'it', 'is', 'pulled', 'ashore', 'by', 'a', 'large', 'team', 'of', 'horses.']\n"
     ]
    },
    {
     "data": {
      "application/vnd.jupyter.widget-view+json": {
       "model_id": "6cb9493606864448a5848ae39fb6c746",
       "version_major": 2,
       "version_minor": 0
      },
      "text/plain": [
       "HBox(children=(FloatProgress(value=1.0, bar_style='info', max=1.0), HTML(value='')))"
      ]
     },
     "metadata": {},
     "output_type": "display_data"
    },
    {
     "name": "stdout",
     "output_type": "stream",
     "text": [
      "\n",
      "0.511240541934967\n",
      "\n"
     ]
    }
   ],
   "source": [
    "pad_idx = english.vocab.stoi['<pad>']\n",
    "\n",
    "criterion = nn.CrossEntropyLoss(ignore_index  = pad_idx)\n",
    "\n",
    "if load_model:\n",
    "    load_checkpoint(torch.load('seq2seq_chkpt.pth.pt'),model,optimizer)\n",
    "    \n",
    "\n",
    "loss = 10000\n",
    "sentence = \"ein boot mit mehreren männern darauf wird von einem großen pferdegespann ans ufer gezogen.\"\n",
    "real_translation = 'a boat with several men on it is pulled ashore by a large team of horses.'\n",
    "for epoch in tqdm(range(num_epochs)):\n",
    "    \n",
    "    checkpoint = {'state_dict':seq2seqModel.state_dict(),'optimizer':optimizer.state_dict()}\n",
    "    save_checkpoint(checkpoint)\n",
    "    \n",
    "    seq2seqModel.eval()\n",
    "    translated_sentence = translate_sentence(seq2seqModel,sentence,german,english,device,max_length = 50)\n",
    "\n",
    "    print(f'Translated example sentence {translated_sentence}')\n",
    "    print(f'Real Translation {real_translation.split()}')\n",
    "    \n",
    "    seq2seqModel.train()\n",
    "    \n",
    "    \n",
    "    \n",
    "    for batch_idx,batch in tqdm(enumerate(train_iterator)):\n",
    "        \n",
    "        input_data = batch.src.to(device)\n",
    "        target = batch.trg.to(device)\n",
    "        \n",
    "        output = seq2seqModel(input_data, target)\n",
    "        \n",
    "        #output shape : targetlen,batchsize,outputdim\n",
    "        \n",
    "        output = output[1:].reshape(-1,output.shape[2])\n",
    "        target = target[1:].reshape(-1)\n",
    "        \n",
    "        \n",
    "        optimizer.zero_grad()\n",
    "        loss = criterion(output,target)\n",
    "        \n",
    "        loss.backward()\n",
    "        \n",
    "        torch.nn.utils.clip_grad_norm_(seq2seqModel.parameters(),max_norm = 1)\n",
    "        \n",
    "        \n",
    "        optimizer.step()\n",
    "        \n",
    "        writer.add_scalar('Training_loss',loss,global_step = step)\n",
    "        \n",
    "        step+=1\n",
    "        \n",
    "    if epoch % 2 == 0:\n",
    "            print(loss.item())\n",
    "        \n",
    "    "
   ]
  },
  {
   "cell_type": "code",
   "execution_count": 19,
   "metadata": {},
   "outputs": [
    {
     "name": "stdout",
     "output_type": "stream",
     "text": [
      "Bleu score 20.82\n"
     ]
    }
   ],
   "source": [
    "score = bleu(test_data[1:100], seq2seqModel, german, english, device)\n",
    "print(f\"Bleu score {score * 100:.2f}\")"
   ]
  },
  {
   "cell_type": "code",
   "execution_count": null,
   "metadata": {},
   "outputs": [],
   "source": []
  },
  {
   "cell_type": "code",
   "execution_count": null,
   "metadata": {},
   "outputs": [],
   "source": []
  },
  {
   "cell_type": "code",
   "execution_count": null,
   "metadata": {},
   "outputs": [],
   "source": []
  },
  {
   "cell_type": "code",
   "execution_count": null,
   "metadata": {},
   "outputs": [],
   "source": []
  },
  {
   "cell_type": "code",
   "execution_count": null,
   "metadata": {},
   "outputs": [],
   "source": []
  },
  {
   "cell_type": "code",
   "execution_count": null,
   "metadata": {},
   "outputs": [],
   "source": []
  },
  {
   "cell_type": "code",
   "execution_count": null,
   "metadata": {},
   "outputs": [],
   "source": []
  },
  {
   "cell_type": "code",
   "execution_count": null,
   "metadata": {},
   "outputs": [],
   "source": []
  },
  {
   "cell_type": "code",
   "execution_count": null,
   "metadata": {},
   "outputs": [],
   "source": []
  },
  {
   "cell_type": "code",
   "execution_count": null,
   "metadata": {},
   "outputs": [],
   "source": []
  },
  {
   "cell_type": "code",
   "execution_count": null,
   "metadata": {},
   "outputs": [],
   "source": []
  },
  {
   "cell_type": "code",
   "execution_count": null,
   "metadata": {},
   "outputs": [],
   "source": []
  },
  {
   "cell_type": "code",
   "execution_count": null,
   "metadata": {},
   "outputs": [],
   "source": []
  },
  {
   "cell_type": "code",
   "execution_count": null,
   "metadata": {},
   "outputs": [],
   "source": []
  },
  {
   "cell_type": "code",
   "execution_count": null,
   "metadata": {},
   "outputs": [],
   "source": []
  },
  {
   "cell_type": "code",
   "execution_count": null,
   "metadata": {},
   "outputs": [],
   "source": []
  },
  {
   "cell_type": "code",
   "execution_count": null,
   "metadata": {},
   "outputs": [],
   "source": []
  },
  {
   "cell_type": "code",
   "execution_count": null,
   "metadata": {},
   "outputs": [],
   "source": []
  },
  {
   "cell_type": "code",
   "execution_count": null,
   "metadata": {},
   "outputs": [],
   "source": []
  },
  {
   "cell_type": "code",
   "execution_count": null,
   "metadata": {},
   "outputs": [],
   "source": []
  },
  {
   "cell_type": "code",
   "execution_count": null,
   "metadata": {},
   "outputs": [],
   "source": []
  },
  {
   "cell_type": "code",
   "execution_count": null,
   "metadata": {},
   "outputs": [],
   "source": []
  },
  {
   "cell_type": "code",
   "execution_count": null,
   "metadata": {},
   "outputs": [],
   "source": []
  },
  {
   "cell_type": "code",
   "execution_count": null,
   "metadata": {},
   "outputs": [],
   "source": []
  },
  {
   "cell_type": "code",
   "execution_count": null,
   "metadata": {},
   "outputs": [],
   "source": []
  },
  {
   "cell_type": "code",
   "execution_count": null,
   "metadata": {},
   "outputs": [],
   "source": []
  },
  {
   "cell_type": "code",
   "execution_count": null,
   "metadata": {},
   "outputs": [],
   "source": []
  }
 ],
 "metadata": {
  "kernelspec": {
   "display_name": "Python 3",
   "language": "python",
   "name": "python3"
  },
  "language_info": {
   "codemirror_mode": {
    "name": "ipython",
    "version": 3
   },
   "file_extension": ".py",
   "mimetype": "text/x-python",
   "name": "python",
   "nbconvert_exporter": "python",
   "pygments_lexer": "ipython3",
   "version": "3.7.7"
  }
 },
 "nbformat": 4,
 "nbformat_minor": 4
}
